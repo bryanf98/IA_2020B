{
  "nbformat": 4,
  "nbformat_minor": 0,
  "metadata": {
    "kernelspec": {
      "display_name": "Python 3",
      "language": "python",
      "name": "python3"
    },
    "language_info": {
      "codemirror_mode": {
        "name": "ipython",
        "version": 3
      },
      "file_extension": ".py",
      "mimetype": "text/x-python",
      "name": "python",
      "nbconvert_exporter": "python",
      "pygments_lexer": "ipython3",
      "version": "3.6.6"
    },
    "colab": {
      "name": "Clasificacion de imagenes.ipynb",
      "provenance": [],
      "include_colab_link": true
    }
  },
  "cells": [
    {
      "cell_type": "markdown",
      "metadata": {
        "id": "view-in-github",
        "colab_type": "text"
      },
      "source": [
        "<a href=\"https://colab.research.google.com/github/bryanf98/IA_2020B/blob/main/SVM/Clasificacion_de_imagenes.ipynb\" target=\"_parent\"><img src=\"https://colab.research.google.com/assets/colab-badge.svg\" alt=\"Open In Colab\"/></a>"
      ]
    },
    {
      "cell_type": "markdown",
      "metadata": {
        "id": "mZF74cWhK4uz"
      },
      "source": [
        "**Clasificación de imagenes**"
      ]
    },
    {
      "cell_type": "markdown",
      "metadata": {
        "id": "63TSgv40g0uE"
      },
      "source": [
        "Escuela Politécnica Nacional\r\n",
        "\r\n",
        "Inteligencia Artificial\r\n",
        "\r\n",
        "Alumno: Bryan Flores Sarango\r\n",
        "\r\n",
        "Fecha:09-02-2021"
      ]
    },
    {
      "cell_type": "code",
      "metadata": {
        "id": "eB1KYJasK4vE"
      },
      "source": [
        "from pathlib import Path\n",
        "import matplotlib.pyplot as plt\n",
        "import numpy as np\n",
        "%matplotlib notebook\n",
        "from sklearn import svm, metrics, datasets\n",
        "from sklearn.utils import Bunch\n",
        "from sklearn.model_selection import GridSearchCV, train_test_split\n",
        "\n",
        "from skimage.io import imread\n",
        "from skimage.transform import resize"
      ],
      "execution_count": 1,
      "outputs": []
    },
    {
      "cell_type": "code",
      "metadata": {
        "id": "AQthBMGpM4JJ",
        "colab": {
          "base_uri": "https://localhost:8080/"
        },
        "outputId": "f6aabbd6-1a2b-4d7f-9d5b-db0427894bbe"
      },
      "source": [
        "from google.colab import drive\r\n",
        "#os.chdir(\"/content/drive/My Drive\")\r\n",
        "drive.mount('/content/drive/')"
      ],
      "execution_count": 2,
      "outputs": [
        {
          "output_type": "stream",
          "text": [
            "Mounted at /content/drive/\n"
          ],
          "name": "stdout"
        }
      ]
    },
    {
      "cell_type": "markdown",
      "metadata": {
        "id": "AEbOg8pgK4vI"
      },
      "source": [
        "**Cargue imágenes en un directorio estructurado como si fuera un conjunto de datos de muestra de sklearn**"
      ]
    },
    {
      "cell_type": "code",
      "metadata": {
        "id": "K-kTvP_wQtfP",
        "colab": {
          "base_uri": "https://localhost:8080/"
        },
        "outputId": "c812549d-d77b-40cd-a594-2322993ef530"
      },
      "source": [
        "ls \"/content/drive/My Drive\""
      ],
      "execution_count": 3,
      "outputs": [
        {
          "output_type": "stream",
          "text": [
            "'20180322_173616 1.mp4'\n",
            "\u001b[0m\u001b[01;34m'Colab Notebooks'\u001b[0m/\n",
            "\u001b[01;34m'Google Fotos'\u001b[0m/\n",
            " Grupo3_Teoria_Invision.mp4\n",
            " \u001b[01;34mimages\u001b[0m/\n",
            "\u001b[01;34m'Inteligencia Artificial'\u001b[0m/\n",
            "'Mecanica para ingenieros.pdf'\n",
            "'Mecanica Vectorial para ingenieros Estatica - Edicion 9 - Beer, Johnston.pdf'\n",
            "\u001b[01;34m'Tecnologías de Seguridad'\u001b[0m/\n",
            " \u001b[01;34mtesteo\u001b[0m/\n"
          ],
          "name": "stdout"
        }
      ]
    },
    {
      "cell_type": "code",
      "metadata": {
        "id": "fAiUSgaPVHQ1"
      },
      "source": [
        "cp -r \"/content/drive/My Drive/images/\" \"images\""
      ],
      "execution_count": 4,
      "outputs": []
    },
    {
      "cell_type": "code",
      "metadata": {
        "id": "SkyuCVgMVgFI",
        "colab": {
          "base_uri": "https://localhost:8080/"
        },
        "outputId": "767c71ec-2205-4dfb-f109-1063ccb9b1d6"
      },
      "source": [
        "ls "
      ],
      "execution_count": 5,
      "outputs": [
        {
          "output_type": "stream",
          "text": [
            "\u001b[0m\u001b[01;34mdrive\u001b[0m/  \u001b[01;34mimages\u001b[0m/  \u001b[01;34msample_data\u001b[0m/\n"
          ],
          "name": "stdout"
        }
      ]
    },
    {
      "cell_type": "markdown",
      "metadata": {
        "id": "GnmYXmuyaMT1"
      },
      "source": [
        "**Validamos con PIL**"
      ]
    },
    {
      "cell_type": "code",
      "metadata": {
        "id": "aWYL8rp8Qfzh"
      },
      "source": [
        "import os\r\n",
        "from os import listdir\r\n",
        "from PIL import Image\r\n",
        "\r\n",
        "dir_path = \"images\"\r\n",
        "\r\n",
        "for dirName, subdirList, fileList in os.walk(dir_path):\r\n",
        "    #print('Directorio encontrado: %s' % dirName)\r\n",
        "    for fname in fileList:\r\n",
        "          try:\r\n",
        "            if fname.endswith('.jpg'):\r\n",
        "              img = Image.open(dir_path+\"\\\\\"+fname)\r\n",
        "              if(img.verify()==True):\r\n",
        "                print(\"1 \",fname)\r\n",
        "            else:\r\n",
        "              print(\"2\")\r\n",
        "          except (IOError, SyntaxError) as e:\r\n",
        "            print(\"\")\r\n",
        "              "
      ],
      "execution_count": null,
      "outputs": []
    },
    {
      "cell_type": "code",
      "metadata": {
        "id": "MnyWxFIrK4vJ"
      },
      "source": [
        "def load_image_files(container_path, dimension=(64, 64)):\n",
        "    image_dir = Path(container_path)\n",
        "    folders = [directory for directory in image_dir.iterdir() if directory.is_dir()]\n",
        "    categories = [fo.name for fo in folders]\n",
        "\n",
        "    descr = \"Conjunto de datos de clasificación de imágenes\"\n",
        "    images = []\n",
        "    flat_data = []\n",
        "    target = []\n",
        "    \n",
        "    for i, direc in enumerate(folders):\n",
        "        for file in direc.iterdir():\n",
        "            img = imread(file)\n",
        "            img_resized = resize(img, dimension, anti_aliasing=True, mode='reflect')\n",
        "            flat_data.append(img_resized.flatten()) \n",
        "            images.append(img_resized)\n",
        "            target.append(i)\n",
        "    flat_data = np.array(flat_data)\n",
        "    target = np.array(target)\n",
        "    images = np.array(images)\n",
        "\n",
        "    return Bunch(data=flat_data,\n",
        "                 target=target,\n",
        "                 target_names=categories,\n",
        "                 images=images,\n",
        "                 DESCR=descr)"
      ],
      "execution_count": 7,
      "outputs": []
    },
    {
      "cell_type": "markdown",
      "metadata": {
        "id": "kb6hMC_Ld5kp"
      },
      "source": [
        "**Cargamos el dataset**"
      ]
    },
    {
      "cell_type": "code",
      "metadata": {
        "scrolled": true,
        "id": "L9BAzkFCK4vK"
      },
      "source": [
        "image_dataset = load_image_files(\"images\")"
      ],
      "execution_count": 32,
      "outputs": []
    },
    {
      "cell_type": "markdown",
      "metadata": {
        "id": "YDCKY8sGK4vL"
      },
      "source": [
        "**Dividimos los datos**"
      ]
    },
    {
      "cell_type": "code",
      "metadata": {
        "id": "-zsqbyJmK4vM"
      },
      "source": [
        "X_train, X_test, y_train, y_test = train_test_split(\n",
        "    image_dataset.data, image_dataset.target, test_size=0.3,random_state=109)"
      ],
      "execution_count": 33,
      "outputs": []
    },
    {
      "cell_type": "markdown",
      "metadata": {
        "id": "ZWIIVy9WK4vM"
      },
      "source": [
        "**Entrene datos con optimización de parámetros**"
      ]
    },
    {
      "cell_type": "code",
      "metadata": {
        "id": "uX3WqfbqK4vN",
        "colab": {
          "base_uri": "https://localhost:8080/"
        },
        "outputId": "7e446f67-72ff-4adb-a62a-30afd0390bfd"
      },
      "source": [
        "param_grid = [\n",
        "  {'C': [1, 10, 100, 1000], 'kernel': ['linear']},\n",
        "  {'C': [1, 10, 100, 1000], 'gamma': [0.001, 0.0001], 'kernel': ['rbf']},\n",
        " ]\n",
        "svc = svm.SVC()\n",
        "svc.fit(X_train, y_train)\n",
        "clf = GridSearchCV(svc, param_grid)\n",
        "clf.fit(X_train, y_train)"
      ],
      "execution_count": 34,
      "outputs": [
        {
          "output_type": "execute_result",
          "data": {
            "text/plain": [
              "GridSearchCV(cv=None, error_score=nan,\n",
              "             estimator=SVC(C=1.0, break_ties=False, cache_size=200,\n",
              "                           class_weight=None, coef0=0.0,\n",
              "                           decision_function_shape='ovr', degree=3,\n",
              "                           gamma='scale', kernel='rbf', max_iter=-1,\n",
              "                           probability=False, random_state=None, shrinking=True,\n",
              "                           tol=0.001, verbose=False),\n",
              "             iid='deprecated', n_jobs=None,\n",
              "             param_grid=[{'C': [1, 10, 100, 1000], 'kernel': ['linear']},\n",
              "                         {'C': [1, 10, 100, 1000], 'gamma': [0.001, 0.0001],\n",
              "                          'kernel': ['rbf']}],\n",
              "             pre_dispatch='2*n_jobs', refit=True, return_train_score=False,\n",
              "             scoring=None, verbose=0)"
            ]
          },
          "metadata": {
            "tags": []
          },
          "execution_count": 34
        }
      ]
    },
    {
      "cell_type": "markdown",
      "metadata": {
        "id": "ntIc5Q1lK4vO"
      },
      "source": [
        "**Predicción**"
      ]
    },
    {
      "cell_type": "code",
      "metadata": {
        "id": "RIlA5VRgK4vO"
      },
      "source": [
        "y_pred = svc.predict(X_test)"
      ],
      "execution_count": 28,
      "outputs": []
    },
    {
      "cell_type": "markdown",
      "metadata": {
        "id": "C7wJOrhXX7tO"
      },
      "source": [
        "**Reporte**"
      ]
    },
    {
      "cell_type": "code",
      "metadata": {
        "colab": {
          "base_uri": "https://localhost:8080/"
        },
        "id": "YuF8f0NgVJMN",
        "outputId": "390aa96e-3965-4a1f-d70d-fba16d4dac61"
      },
      "source": [
        "print(\"Reporte de clasificación - \\n{}:\\n{}\\n\".format(\r\n",
        "    svc, metrics.classification_report(y_test, y_pred)))"
      ],
      "execution_count": 35,
      "outputs": [
        {
          "output_type": "stream",
          "text": [
            "Reporte de clasificación - \n",
            "SVC(C=1.0, break_ties=False, cache_size=200, class_weight=None, coef0=0.0,\n",
            "    decision_function_shape='ovr', degree=3, gamma='scale', kernel='rbf',\n",
            "    max_iter=-1, probability=False, random_state=None, shrinking=True,\n",
            "    tol=0.001, verbose=False):\n",
            "              precision    recall  f1-score   support\n",
            "\n",
            "           0       0.74      0.88      0.80        16\n",
            "           1       0.93      0.96      0.95        27\n",
            "           2       0.73      0.57      0.64        14\n",
            "           3       0.67      0.76      0.71        21\n",
            "           4       0.91      0.67      0.77        15\n",
            "\n",
            "    accuracy                           0.80        93\n",
            "   macro avg       0.79      0.77      0.77        93\n",
            "weighted avg       0.80      0.80      0.79        93\n",
            "\n",
            "\n"
          ],
          "name": "stdout"
        }
      ]
    },
    {
      "cell_type": "markdown",
      "metadata": {
        "id": "IpMFJWpFX_25"
      },
      "source": [
        "**Predicción**"
      ]
    },
    {
      "cell_type": "code",
      "metadata": {
        "id": "ibGnCiJHVDBe"
      },
      "source": [
        "y_pred = clf.predict(X_test)"
      ],
      "execution_count": 26,
      "outputs": []
    },
    {
      "cell_type": "markdown",
      "metadata": {
        "id": "mNKUpshfK4vP"
      },
      "source": [
        "**Reporte**"
      ]
    },
    {
      "cell_type": "code",
      "metadata": {
        "id": "nMPeoByWK4vP",
        "colab": {
          "base_uri": "https://localhost:8080/"
        },
        "outputId": "83c42001-b553-47fe-e408-9cb52b8cc20d"
      },
      "source": [
        "print(\"Reporte de clasificación - \\n{}:\\n{}\\n\".format(\n",
        "    clf, metrics.classification_report(y_test, y_pred)))"
      ],
      "execution_count": 36,
      "outputs": [
        {
          "output_type": "stream",
          "text": [
            "Reporte de clasificación - \n",
            "GridSearchCV(cv=None, error_score=nan,\n",
            "             estimator=SVC(C=1.0, break_ties=False, cache_size=200,\n",
            "                           class_weight=None, coef0=0.0,\n",
            "                           decision_function_shape='ovr', degree=3,\n",
            "                           gamma='scale', kernel='rbf', max_iter=-1,\n",
            "                           probability=False, random_state=None, shrinking=True,\n",
            "                           tol=0.001, verbose=False),\n",
            "             iid='deprecated', n_jobs=None,\n",
            "             param_grid=[{'C': [1, 10, 100, 1000], 'kernel': ['linear']},\n",
            "                         {'C': [1, 10, 100, 1000], 'gamma': [0.001, 0.0001],\n",
            "                          'kernel': ['rbf']}],\n",
            "             pre_dispatch='2*n_jobs', refit=True, return_train_score=False,\n",
            "             scoring=None, verbose=0):\n",
            "              precision    recall  f1-score   support\n",
            "\n",
            "           0       0.74      0.88      0.80        16\n",
            "           1       0.93      0.96      0.95        27\n",
            "           2       0.73      0.57      0.64        14\n",
            "           3       0.67      0.76      0.71        21\n",
            "           4       0.91      0.67      0.77        15\n",
            "\n",
            "    accuracy                           0.80        93\n",
            "   macro avg       0.79      0.77      0.77        93\n",
            "weighted avg       0.80      0.80      0.79        93\n",
            "\n",
            "\n"
          ],
          "name": "stdout"
        }
      ]
    },
    {
      "cell_type": "markdown",
      "metadata": {
        "id": "pdQO5sWgYCqB"
      },
      "source": [
        "**Guardar el modelo**"
      ]
    },
    {
      "cell_type": "code",
      "metadata": {
        "id": "GrzCNSdVl7W-"
      },
      "source": [
        "import pickle\r\n",
        "filename='modeloSVC.h5'\r\n",
        "pickle.dump(svc, open(filename, 'wb'))"
      ],
      "execution_count": null,
      "outputs": []
    },
    {
      "cell_type": "code",
      "metadata": {
        "colab": {
          "base_uri": "https://localhost:8080/",
          "height": 34
        },
        "id": "i94ky8M8nrLB",
        "outputId": "1726d2fa-2060-4f9d-cc70-ff9d35e93e2b"
      },
      "source": [
        "from google.colab import files\r\n",
        "download = files.download(filename)"
      ],
      "execution_count": null,
      "outputs": [
        {
          "output_type": "display_data",
          "data": {
            "application/javascript": [
              "\n",
              "    async function download(id, filename, size) {\n",
              "      if (!google.colab.kernel.accessAllowed) {\n",
              "        return;\n",
              "      }\n",
              "      const div = document.createElement('div');\n",
              "      const label = document.createElement('label');\n",
              "      label.textContent = `Downloading \"${filename}\": `;\n",
              "      div.appendChild(label);\n",
              "      const progress = document.createElement('progress');\n",
              "      progress.max = size;\n",
              "      div.appendChild(progress);\n",
              "      document.body.appendChild(div);\n",
              "\n",
              "      const buffers = [];\n",
              "      let downloaded = 0;\n",
              "\n",
              "      const channel = await google.colab.kernel.comms.open(id);\n",
              "      // Send a message to notify the kernel that we're ready.\n",
              "      channel.send({})\n",
              "\n",
              "      for await (const message of channel.messages) {\n",
              "        // Send a message to notify the kernel that we're ready.\n",
              "        channel.send({})\n",
              "        if (message.buffers) {\n",
              "          for (const buffer of message.buffers) {\n",
              "            buffers.push(buffer);\n",
              "            downloaded += buffer.byteLength;\n",
              "            progress.value = downloaded;\n",
              "          }\n",
              "        }\n",
              "      }\n",
              "      const blob = new Blob(buffers, {type: 'application/binary'});\n",
              "      const a = document.createElement('a');\n",
              "      a.href = window.URL.createObjectURL(blob);\n",
              "      a.download = filename;\n",
              "      div.appendChild(a);\n",
              "      a.click();\n",
              "      div.remove();\n",
              "    }\n",
              "  "
            ],
            "text/plain": [
              "<IPython.core.display.Javascript object>"
            ]
          },
          "metadata": {
            "tags": []
          }
        },
        {
          "output_type": "display_data",
          "data": {
            "application/javascript": [
              "download(\"download_93044005-9b62-4e0d-ba2a-4279c445b5f3\", \"modeloSVC.h5\", 20652972)"
            ],
            "text/plain": [
              "<IPython.core.display.Javascript object>"
            ]
          },
          "metadata": {
            "tags": []
          }
        }
      ]
    },
    {
      "cell_type": "markdown",
      "metadata": {
        "id": "u_9_Z8QueTL-"
      },
      "source": [
        "Bibliografia: https://github.com/whimian/SVM-Image-Classification"
      ]
    }
  ]
}